{
 "cells": [
  {
   "cell_type": "markdown",
   "metadata": {},
   "source": [
    "### Logistic Regression\n",
    "Logistic regression model is used when the probability of an event occuring has to be predicted."
   ]
  },
  {
   "cell_type": "code",
   "execution_count": null,
   "metadata": {},
   "outputs": [
    {
     "ename": "",
     "evalue": "",
     "output_type": "error",
     "traceback": [
      "\u001b[1;31mFailed to start the Kernel. \n",
      "Traceback (most recent call last):\n",
      "  File \"/home/abin/.vscode/extensions/ms-toolsai.jupyter-2022.4.1021342353/pythonFiles/vscode_datascience_helpers/jupyter_daemon.py\", line 158, in _start_notebook\n",
      "    from notebook import notebookapp as app\n",
      "  File \"/home/abin/anaconda3/lib/python3.9/site-packages/notebook/notebookapp.py\", line 44, in <module>\n",
      "    from jinja2 import Environment, FileSystemLoader\n",
      "  File \"/home/abin/anaconda3/lib/python3.9/site-packages/jinja2/__init__.py\", line 12, in <module>\n",
      "    from .environment import Environment\n",
      "  File \"/home/abin/anaconda3/lib/python3.9/site-packages/jinja2/environment.py\", line 25, in <module>\n",
      "    from .defaults import BLOCK_END_STRING\n",
      "  File \"/home/abin/anaconda3/lib/python3.9/site-packages/jinja2/defaults.py\", line 3, in <module>\n",
      "    from .filters import FILTERS as DEFAULT_FILTERS  # noqa: F401\n",
      "  File \"/home/abin/anaconda3/lib/python3.9/site-packages/jinja2/filters.py\", line 13, in <module>\n",
      "    from markupsafe import soft_unicode\n",
      "ImportError: cannot import name 'soft_unicode' from 'markupsafe' (/home/abin/anaconda3/lib/python3.9/site-packages/markupsafe/__init__.py)\n",
      "\n",
      "During handling of the above exception, another exception occurred:\n",
      "\n",
      "Traceback (most recent call last):\n",
      "  File \"/home/abin/.vscode/extensions/ms-toolsai.jupyter-2022.4.1021342353/pythonFiles/vscode_datascience_helpers/daemon/daemon_python.py\", line 54, in _decorator\n",
      "    return func(self, *args, **kwargs)\n",
      "  File \"/home/abin/.vscode/extensions/ms-toolsai.jupyter-2022.4.1021342353/pythonFiles/vscode_datascience_helpers/jupyter_daemon.py\", line 111, in m_exec_module_observable\n",
      "    self._start_notebook(args, cwd, env)\n",
      "  File \"/home/abin/.vscode/extensions/ms-toolsai.jupyter-2022.4.1021342353/pythonFiles/vscode_datascience_helpers/jupyter_daemon.py\", line 160, in _start_notebook\n",
      "    from notebook import app as app\n",
      "ImportError: cannot import name 'app' from 'notebook' (/home/abin/anaconda3/lib/python3.9/site-packages/notebook/__init__.py)\n",
      "\n",
      "Failed to run jupyter as observable with args notebook --no-browser --notebook-dir=\"/home/abin/Downloads/EMLDemos1604236492393/review/04_LogisticRegressionCHD1603351075394/Logistic Regression CHD\" --config=/tmp/6ff1144f-66e3-4f05-bd81-98d61ec54eb3/jupyter_notebook_config.py --NotebookApp.iopub_data_rate_limit=10000000000.0. \n",
      "View Jupyter <a href='command:jupyter.viewOutput'>log</a> for further details."
     ]
    }
   ],
   "source": [
    "# Importing necessary libraries\n",
    "import numpy as np\n",
    "import pandas as pd\n",
    "import matplotlib.pyplot as plt\n",
    "%matplotlib inline\n",
    "#import warnings\n",
    "#warnings.filterwarnings('ignore')"
   ]
  },
  {
   "cell_type": "markdown",
   "metadata": {},
   "source": [
    "#### <font color='white'>Read data</font>\n",
    "In this demo, we will use coronary heart disease (chd) dataset, which gives the details about the chances of having chd, given the age."
   ]
  },
  {
   "cell_type": "code",
   "execution_count": 2,
   "metadata": {},
   "outputs": [],
   "source": [
    "chd = pd.read_csv(\"datasets/chd_data.csv\")"
   ]
  },
  {
   "cell_type": "code",
   "execution_count": 3,
   "metadata": {},
   "outputs": [
    {
     "data": {
      "text/html": [
       "<div>\n",
       "<style scoped>\n",
       "    .dataframe tbody tr th:only-of-type {\n",
       "        vertical-align: middle;\n",
       "    }\n",
       "\n",
       "    .dataframe tbody tr th {\n",
       "        vertical-align: top;\n",
       "    }\n",
       "\n",
       "    .dataframe thead th {\n",
       "        text-align: right;\n",
       "    }\n",
       "</style>\n",
       "<table border=\"1\" class=\"dataframe\">\n",
       "  <thead>\n",
       "    <tr style=\"text-align: right;\">\n",
       "      <th></th>\n",
       "      <th>age</th>\n",
       "      <th>chd</th>\n",
       "    </tr>\n",
       "  </thead>\n",
       "  <tbody>\n",
       "    <tr>\n",
       "      <th>0</th>\n",
       "      <td>20</td>\n",
       "      <td>0</td>\n",
       "    </tr>\n",
       "    <tr>\n",
       "      <th>1</th>\n",
       "      <td>23</td>\n",
       "      <td>0</td>\n",
       "    </tr>\n",
       "    <tr>\n",
       "      <th>2</th>\n",
       "      <td>24</td>\n",
       "      <td>0</td>\n",
       "    </tr>\n",
       "    <tr>\n",
       "      <th>3</th>\n",
       "      <td>25</td>\n",
       "      <td>1</td>\n",
       "    </tr>\n",
       "    <tr>\n",
       "      <th>4</th>\n",
       "      <td>25</td>\n",
       "      <td>0</td>\n",
       "    </tr>\n",
       "  </tbody>\n",
       "</table>\n",
       "</div>"
      ],
      "text/plain": [
       "   age  chd\n",
       "0   20    0\n",
       "1   23    0\n",
       "2   24    0\n",
       "3   25    1\n",
       "4   25    0"
      ]
     },
     "execution_count": 3,
     "metadata": {},
     "output_type": "execute_result"
    }
   ],
   "source": [
    "chd.head() # Reading the first 5 rows"
   ]
  },
  {
   "cell_type": "markdown",
   "metadata": {},
   "source": [
    "#### <font color='blue'>Feature Engineering</font>\n",
    "Let us visualize the data to have insights on building the model."
   ]
  },
  {
   "cell_type": "code",
   "execution_count": 4,
   "metadata": {
    "scrolled": true
   },
   "outputs": [
    {
     "data": {
      "text/plain": [
       "Text(0.5, 1.0, 'Age vs. Coronary Heart Disease')"
      ]
     },
     "execution_count": 4,
     "metadata": {},
     "output_type": "execute_result"
    },
    {
     "data": {
      "image/png": "[encoded data removed]",
      "text/plain": [
       "<Figure size 432x288 with 1 Axes>"
      ]
     },
     "metadata": {
      "needs_background": "light"
     },
     "output_type": "display_data"
    }
   ],
   "source": [
    "plt.scatter(\"age\",\"chd\",data=chd)\n",
    "plt.xlabel(\"age\")\n",
    "plt.ylabel(\"chd\")\n",
    "plt.title(\"Age vs. Coronary Heart Disease\")"
   ]
  },
  {
   "cell_type": "markdown",
   "metadata": {},
   "source": [
    "#### <font color='blue'>Building Logistic Regression model</font>"
   ]
  },
  {
   "cell_type": "markdown",
   "metadata": {},
   "source": [
    "###### Splitting the data into train and test set"
   ]
  },
  {
   "cell_type": "code",
   "execution_count": 5,
   "metadata": {},
   "outputs": [],
   "source": [
    "# Importing the required class\n",
    "from sklearn.model_selection import train_test_split\n",
    "\n",
    "# Specifying the columns as predictor and target variable\n",
    "predictors = [\"age\"]\n",
    "target = \"chd\"\n",
    "\n",
    "X = chd[predictors] # X contains the predictor values or input data \n",
    "y = chd[target] # y contains the target labels\n",
    "\n",
    "# Spliting the data in training and test set in 70:30 ratio\n",
    "X_train, X_test, Y_train, Y_test = train_test_split(X, y, test_size=0.3, random_state=0)"
   ]
  },
  {
   "cell_type": "code",
   "execution_count": 6,
   "metadata": {},
   "outputs": [
    {
     "name": "stdout",
     "output_type": "stream",
     "text": [
      "Shape of X_train: (70, 1)\n",
      "Shape of y_train: (70,)\n",
      "Shape of X_test: (30, 1)\n",
      "Shape of y_test: (30,)\n"
     ]
    }
   ],
   "source": [
    "print(\"Shape of X_train:\", X_train.shape)\n",
    "print(\"Shape of y_train:\", Y_train.shape)\n",
    "print(\"Shape of X_test:\", X_test.shape)\n",
    "print(\"Shape of y_test:\", Y_test.shape)"
   ]
  },
  {
   "cell_type": "code",
   "execution_count": 7,
   "metadata": {},
   "outputs": [
    {
     "name": "stdout",
     "output_type": "stream",
     "text": [
      "Intercept: [-5.65118929] \n",
      "Coefficients: [[0.11144281]]\n"
     ]
    }
   ],
   "source": [
    "# Importing the required class\n",
    "from sklearn.linear_model import LogisticRegression\n",
    "\n",
    "# Creating the object of the class LogisticRegression\n",
    "model = LogisticRegression()\n",
    "\n",
    "# Fitting the model to the training data\n",
    "model.fit(X_train,Y_train)\n",
    "\n",
    "# Getting the intercept and the coefficients of the model\n",
    "print(\"Intercept:\",model.intercept_,\"\\nCoefficients:\", model.coef_)"
   ]
  },
  {
   "cell_type": "code",
   "execution_count": 8,
   "metadata": {},
   "outputs": [
    {
     "name": "stdout",
     "output_type": "stream",
     "text": [
      "\n",
      "Probabilities: [[0.91829082 0.08170918]] \n",
      "Chd value: [0]\n"
     ]
    }
   ],
   "source": [
    "# Predicting the probabilities for each of the class labels and the final class for a new data\n",
    "test=np.array([29]).reshape(1,-1)\n",
    "print(\"\\nProbabilities:\",model.predict_proba(test),\"\\nChd value:\",model.predict(test))"
   ]
  },
  {
   "cell_type": "markdown",
   "metadata": {},
   "source": [
    "#### <font color='blue'>Visualization</font>"
   ]
  },
  {
   "cell_type": "code",
   "execution_count": 9,
   "metadata": {},
   "outputs": [
    {
     "data": {
      "text/plain": [
       "<matplotlib.legend.Legend at 0x2ec5fb21508>"
      ]
     },
     "execution_count": 9,
     "metadata": {},
     "output_type": "execute_result"
    },
    {
     "data": {
      "image/png": "[encoded data removed]",
      "text/plain": [
       "<Figure size 432x288 with 1 Axes>"
      ]
     },
     "metadata": {
      "needs_background": "light"
     },
     "output_type": "display_data"
    }
   ],
   "source": [
    "# Getting the probability for class label '1' for all the samples\n",
    "pred_test = model.predict_proba(X_test)[:,1]\n",
    "\n",
    "# Plotting the actual class labels or target values for the samples\n",
    "plt.scatter(X_test['age'],Y_test, label = \"actual target value\")\n",
    "\n",
    "# Plotting the predicted probability for class label '1' for all the samples\n",
    "plt.scatter(X_test['age'],pred_test, label = \"probability of class '1'\", marker='o',color = \"orange\")\n",
    "\n",
    "# Adding the xlabel, ylabel, title and the legend\n",
    "plt.xlabel(\"age\")\n",
    "plt.ylabel(\"chd\")\n",
    "plt.title(\"Predicted probabilities\")\n",
    "plt.legend()"
   ]
  },
  {
   "cell_type": "code",
   "execution_count": null,
   "metadata": {},
   "outputs": [],
   "source": []
  }
 ],
 "metadata": {
  "interpreter": {
   "hash": "bfbe4ce4507d3ebfc97850dadbd2bd2a00b295c9d1f4a4515bfe431ac12cc9ee"
  },
  "kernelspec": {
   "display_name": "Python 3.9.7 ('base')",
   "language": "python",
   "name": "python3"
  },
  "language_info": {
   "codemirror_mode": {
    "name": "ipython",
    "version": 3
   },
   "file_extension": ".py",
   "mimetype": "text/x-python",
   "name": "python",
   "nbconvert_exporter": "python",
   "pygments_lexer": "ipython3",
   "version": "3.9.7"
  }
 },
 "nbformat": 4,
 "nbformat_minor": 2
}
